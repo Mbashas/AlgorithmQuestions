{
 "cells": [
  {
   "cell_type": "markdown",
   "metadata": {},
   "source": [
    "## Alternative implementation backtracking"
   ]
  },
  {
   "cell_type": "markdown",
   "metadata": {},
   "source": [
    "Backtracking is an algorithmic technique for solving problems recursively. It builds a solution incrementally (often one decision at a time) and abandons a branch (\"backtracks\") as soon as it determines that the branch cannot possibly lead to a valid solution. It is especially useful for constraint satisfaction problems, such as puzzles (e.g., N-Queens, Sudoku), where you make choices and, if a conflict arises, revert your last decision and try an alternative."
   ]
  },
  {
   "cell_type": "code",
   "execution_count": 1,
   "metadata": {},
   "outputs": [
    {
     "name": "stdout",
     "output_type": "stream",
     "text": [
      "Solution for Example 1 with N = 4:\n",
      "['.Q..', '...Q', 'Q...', '..Q.']\n",
      "['..Q.', 'Q...', '...Q', '.Q..']\n",
      "\n",
      "Solution for Example 2 with N = 1:\n",
      "['Q']\n"
     ]
    }
   ],
   "source": [
    "def solve_n_queens(N):\n",
    "    result = []\n",
    "    board = [['.' for _ in range(N)] for _ in range(N)]\n",
    "    cols = set()\n",
    "    diag1 = set()  # row - col\n",
    "    diag2 = set()  # row + col\n",
    "\n",
    "    def backtrack(row):\n",
    "        if row == N:\n",
    "            result.append([''.join(r) for r in board])\n",
    "            return\n",
    "        for col in range(N):\n",
    "            if col in cols or (row - col) in diag1 or (row + col) in diag2:\n",
    "                continue\n",
    "            board[row][col] = 'Q'\n",
    "            cols.add(col)\n",
    "            diag1.add(row - col)\n",
    "            diag2.add(row + col)\n",
    "            backtrack(row + 1)\n",
    "            board[row][col] = '.'\n",
    "            cols.remove(col)\n",
    "            diag1.remove(row - col)\n",
    "            diag2.remove(row + col)\n",
    "\n",
    "    backtrack(0)\n",
    "    return result\n",
    "\n",
    "# Example usage:\n",
    "N1 = 4\n",
    "result1 = solve_n_queens(N1)\n",
    "print(f\"Solution for Example 1 with N = {N1}:\")\n",
    "for solution in result1:\n",
    "    print(solution)\n",
    "print()\n",
    "\n",
    "N2 = 1\n",
    "result2 = solve_n_queens(N2)\n",
    "print(f\"Solution for Example 2 with N = {N2}:\")\n",
    "for solution in result2:\n",
    "    print(solution)"
   ]
  },
  {
   "cell_type": "markdown",
   "metadata": {},
   "source": [
    "Step-by-step explanation of the alternative approach:\n",
    "\n",
    "1. Instead of checking the board for conflicts by iterating over each row and both diagonals, we maintain three sets (cols, diag1, diag2) that record the columns and both diagonals currently occupied by queens.  \n",
    "2. We use a recursive helper function that places queens row by row rather than column by column, which simplifies the base condition (when row equals N, we've placed all queens).\n",
    "3. When placing a queen, we update the sets and restore them on backtracking.  \n",
    "4. The board’s state is recorded into the results list when all queens are successfully placed."
   ]
  }
 ],
 "metadata": {
  "kernelspec": {
   "display_name": "base",
   "language": "python",
   "name": "python3"
  },
  "language_info": {
   "codemirror_mode": {
    "name": "ipython",
    "version": 3
   },
   "file_extension": ".py",
   "mimetype": "text/x-python",
   "name": "python",
   "nbconvert_exporter": "python",
   "pygments_lexer": "ipython3",
   "version": "3.12.7"
  }
 },
 "nbformat": 4,
 "nbformat_minor": 2
}
