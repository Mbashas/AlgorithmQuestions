{
 "cells": [
  {
   "cell_type": "markdown",
   "metadata": {},
   "source": [
    "Validate Subsequence\n",
    "\n",
    "Given two non-empty arrays of integers, write a function that determines whether the second array is a\n",
    "subsequence of the first one.\n",
    "\n",
    "A subsequence of an array is a set of numbers that aren't necessarily adjacent in the array but that are in\n",
    "the same order as they appear in the array. For instance, the numbers [2, 4] and the array itself are both valid subsequences of the array."
   ]
  },
  {
   "cell_type": "code",
   "execution_count": 6,
   "metadata": {},
   "outputs": [],
   "source": [
    "def validateSubsequence(array, sequence):\n",
    "    arr_point = 0\n",
    "    seq_point = 0\n",
    "    while arr_point < len(array) and seq_point < len(sequence):\n",
    "        if array[arr_point] == sequence[seq_point]:\n",
    "            seq_point += 1\n",
    "        arr_point += 1  # This line should be inside the while loop\n",
    "    return seq_point == len(sequence)"
   ]
  },
  {
   "cell_type": "code",
   "execution_count": 7,
   "metadata": {},
   "outputs": [
    {
     "name": "stdout",
     "output_type": "stream",
     "text": [
      "True\n"
     ]
    }
   ],
   "source": [
    "# Example arrays\n",
    "array = [5, 1, 22, 25, 6, -1, 8, 10]\n",
    "sequence = [1, 6, -1, 10]\n",
    "\n",
    "print(validateSubsequence(array, sequence))"
   ]
  },
  {
   "cell_type": "code",
   "execution_count": 8,
   "metadata": {},
   "outputs": [
    {
     "name": "stdout",
     "output_type": "stream",
     "text": [
      "Is the sequence [1, 6, -1, 10] a subsequence of the array [5, 1, 22, 25, 6, -1, 8, 10]? True\n"
     ]
    }
   ],
   "source": [
    "# Example arrays\n",
    "array = [5, 1, 22, 25, 6, -1, 8, 10]\n",
    "sequence = [1, 6, -1, 10]\n",
    "\n",
    "# Validate if sequence is a subsequence of array\n",
    "is_subsequence = validateSubsequence(array, sequence)\n",
    "print(f\"Is the sequence {sequence} a subsequence of the array {array}? {is_subsequence}\")"
   ]
  }
 ],
 "metadata": {
  "kernelspec": {
   "display_name": "Python 3",
   "language": "python",
   "name": "python3"
  },
  "language_info": {
   "codemirror_mode": {
    "name": "ipython",
    "version": 3
   },
   "file_extension": ".py",
   "mimetype": "text/x-python",
   "name": "python",
   "nbconvert_exporter": "python",
   "pygments_lexer": "ipython3",
   "version": "3.12.6"
  }
 },
 "nbformat": 4,
 "nbformat_minor": 2
}
