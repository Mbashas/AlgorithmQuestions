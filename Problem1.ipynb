{
 "cells": [
  {
   "cell_type": "markdown",
   "metadata": {},
   "source": [
    "Write a function that takes in a non-empty array of distinct integers and an integer representing a target sum. If any two numbers in the input array sum up to the target sum, the function should return them in an array, in any order. If no two numbers sum up to the target sum, the function should return an empty array. Note that the target sum has to be obtained by summing two different integers in the array; you can't add a single integer to itself in order to obtain the target sum. You can assume that there will be at most one pair of numbers summing up to the target sum."
   ]
  },
  {
   "cell_type": "code",
   "execution_count": 1,
   "metadata": {},
   "outputs": [
    {
     "name": "stdout",
     "output_type": "stream",
     "text": [
      "hello allan allan\n"
     ]
    }
   ],
   "source": [
    "def greet(first,second):\n",
    "    print(f\"hello {first} {second}\")\n",
    "\n",
    "greet(\"allan\",\"allan\")"
   ]
  },
  {
   "cell_type": "code",
   "execution_count": 12,
   "metadata": {},
   "outputs": [
    {
     "name": "stdout",
     "output_type": "stream",
     "text": [
      "[11, -1]\n"
     ]
    }
   ],
   "source": [
    "def two_number_sum(array, target_sum):\n",
    "    \"\"\"\n",
    "    Finds the pair of numbers in an array that add up to a given target sum.\n",
    "\n",
    "    Args:\n",
    "      array: A non-empty array of distinct integers.\n",
    "      target_sum: The target sum.\n",
    "\n",
    "    Returns:\n",
    "      An array containing the two numbers that sum up to the target sum, \n",
    "      or an empty array if no such pair exists.\n",
    "    \"\"\"\n",
    "    nums = {}\n",
    "    for num in array:\n",
    "        potential_match = target_sum - num\n",
    "        if potential_match in nums:\n",
    "            return [potential_match, num]\n",
    "        else:\n",
    "            nums[num] = True\n",
    "    return []\n",
    "    # Example usage\n",
    "array = [3, 5, -4, 8, 11, 1, -1, 6]\n",
    "target_sum = 10\n",
    "result = two_number_sum(array, target_sum)\n",
    "print(result) \n"
   ]
  }
 ],
 "metadata": {
  "kernelspec": {
   "display_name": "Python 3",
   "language": "python",
   "name": "python3"
  },
  "language_info": {
   "codemirror_mode": {
    "name": "ipython",
    "version": 3
   },
   "file_extension": ".py",
   "mimetype": "text/x-python",
   "name": "python",
   "nbconvert_exporter": "python",
   "pygments_lexer": "ipython3",
   "version": "3.12.6"
  }
 },
 "nbformat": 4,
 "nbformat_minor": 2
}
