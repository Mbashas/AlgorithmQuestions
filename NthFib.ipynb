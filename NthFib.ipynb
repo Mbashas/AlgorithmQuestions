{
 "cells": [
  {
   "cell_type": "markdown",
   "metadata": {},
   "source": [
    "# Naive Solution"
   ]
  },
  {
   "cell_type": "code",
   "execution_count": 1,
   "metadata": {},
   "outputs": [],
   "source": [
    "def NthFibo(n):\n",
    "    if n==2:\n",
    "        return 1\n",
    "    elif n==1:\n",
    "        return 0\n",
    "    else:\n",
    "        return NthFibo(n-1)+NthFibo(n-2)\n"
   ]
  },
  {
   "cell_type": "code",
   "execution_count": 18,
   "metadata": {},
   "outputs": [
    {
     "ename": "KeyboardInterrupt",
     "evalue": "",
     "output_type": "error",
     "traceback": [
      "\u001b[1;31m---------------------------------------------------------------------------\u001b[0m",
      "\u001b[1;31mKeyboardInterrupt\u001b[0m                         Traceback (most recent call last)",
      "Cell \u001b[1;32mIn[18], line 1\u001b[0m\n\u001b[1;32m----> 1\u001b[0m \u001b[43mNthFibo\u001b[49m\u001b[43m(\u001b[49m\u001b[38;5;241;43m76\u001b[39;49m\u001b[43m)\u001b[49m\n",
      "Cell \u001b[1;32mIn[1], line 7\u001b[0m, in \u001b[0;36mNthFibo\u001b[1;34m(n)\u001b[0m\n\u001b[0;32m      5\u001b[0m     \u001b[38;5;28;01mreturn\u001b[39;00m \u001b[38;5;241m0\u001b[39m\n\u001b[0;32m      6\u001b[0m \u001b[38;5;28;01melse\u001b[39;00m:\n\u001b[1;32m----> 7\u001b[0m     \u001b[38;5;28;01mreturn\u001b[39;00m \u001b[43mNthFibo\u001b[49m\u001b[43m(\u001b[49m\u001b[43mn\u001b[49m\u001b[38;5;241;43m-\u001b[39;49m\u001b[38;5;241;43m1\u001b[39;49m\u001b[43m)\u001b[49m\u001b[38;5;241m+\u001b[39mNthFibo(n\u001b[38;5;241m-\u001b[39m\u001b[38;5;241m2\u001b[39m)\n",
      "Cell \u001b[1;32mIn[1], line 7\u001b[0m, in \u001b[0;36mNthFibo\u001b[1;34m(n)\u001b[0m\n\u001b[0;32m      5\u001b[0m     \u001b[38;5;28;01mreturn\u001b[39;00m \u001b[38;5;241m0\u001b[39m\n\u001b[0;32m      6\u001b[0m \u001b[38;5;28;01melse\u001b[39;00m:\n\u001b[1;32m----> 7\u001b[0m     \u001b[38;5;28;01mreturn\u001b[39;00m \u001b[43mNthFibo\u001b[49m\u001b[43m(\u001b[49m\u001b[43mn\u001b[49m\u001b[38;5;241;43m-\u001b[39;49m\u001b[38;5;241;43m1\u001b[39;49m\u001b[43m)\u001b[49m\u001b[38;5;241m+\u001b[39mNthFibo(n\u001b[38;5;241m-\u001b[39m\u001b[38;5;241m2\u001b[39m)\n",
      "    \u001b[1;31m[... skipping similar frames: NthFibo at line 7 (61 times)]\u001b[0m\n",
      "Cell \u001b[1;32mIn[1], line 7\u001b[0m, in \u001b[0;36mNthFibo\u001b[1;34m(n)\u001b[0m\n\u001b[0;32m      5\u001b[0m     \u001b[38;5;28;01mreturn\u001b[39;00m \u001b[38;5;241m0\u001b[39m\n\u001b[0;32m      6\u001b[0m \u001b[38;5;28;01melse\u001b[39;00m:\n\u001b[1;32m----> 7\u001b[0m     \u001b[38;5;28;01mreturn\u001b[39;00m NthFibo(n\u001b[38;5;241m-\u001b[39m\u001b[38;5;241m1\u001b[39m)\u001b[38;5;241m+\u001b[39m\u001b[43mNthFibo\u001b[49m\u001b[43m(\u001b[49m\u001b[43mn\u001b[49m\u001b[38;5;241;43m-\u001b[39;49m\u001b[38;5;241;43m2\u001b[39;49m\u001b[43m)\u001b[49m\n",
      "Cell \u001b[1;32mIn[1], line 1\u001b[0m, in \u001b[0;36mNthFibo\u001b[1;34m(n)\u001b[0m\n\u001b[1;32m----> 1\u001b[0m \u001b[38;5;28;01mdef\u001b[39;00m \u001b[38;5;21mNthFibo\u001b[39m(n):\n\u001b[0;32m      2\u001b[0m     \u001b[38;5;28;01mif\u001b[39;00m n\u001b[38;5;241m==\u001b[39m\u001b[38;5;241m2\u001b[39m:\n\u001b[0;32m      3\u001b[0m         \u001b[38;5;28;01mreturn\u001b[39;00m \u001b[38;5;241m1\u001b[39m\n",
      "\u001b[1;31mKeyboardInterrupt\u001b[0m: "
     ]
    }
   ],
   "source": [
    "NthFibo(76)"
   ]
  },
  {
   "cell_type": "markdown",
   "metadata": {},
   "source": [
    "something wrong with naive??"
   ]
  },
  {
   "cell_type": "markdown",
   "metadata": {},
   "source": [
    "# memoization"
   ]
  },
  {
   "cell_type": "code",
   "execution_count": 10,
   "metadata": {},
   "outputs": [],
   "source": [
    "def memo(n, memoize={1:0,2:1}):\n",
    "    if n in memoize:\n",
    "        return memoize[n]\n",
    "    else:\n",
    "        memoize[n]=memo(n-1,memoize)+memo(n-2,memoize)\n",
    "        return memoize[n]"
   ]
  },
  {
   "cell_type": "code",
   "execution_count": 24,
   "metadata": {},
   "outputs": [
    {
     "ename": "RecursionError",
     "evalue": "maximum recursion depth exceeded",
     "output_type": "error",
     "traceback": [
      "\u001b[1;31m---------------------------------------------------------------------------\u001b[0m",
      "\u001b[1;31mRecursionError\u001b[0m                            Traceback (most recent call last)",
      "Cell \u001b[1;32mIn[24], line 1\u001b[0m\n\u001b[1;32m----> 1\u001b[0m \u001b[43mmemo\u001b[49m\u001b[43m(\u001b[49m\u001b[38;5;241;43m9000\u001b[39;49m\u001b[43m)\u001b[49m\n",
      "Cell \u001b[1;32mIn[10], line 5\u001b[0m, in \u001b[0;36mmemo\u001b[1;34m(n, memoize)\u001b[0m\n\u001b[0;32m      3\u001b[0m     \u001b[38;5;28;01mreturn\u001b[39;00m memoize[n]\n\u001b[0;32m      4\u001b[0m \u001b[38;5;28;01melse\u001b[39;00m:\n\u001b[1;32m----> 5\u001b[0m     memoize[n]\u001b[38;5;241m=\u001b[39m\u001b[43mmemo\u001b[49m\u001b[43m(\u001b[49m\u001b[43mn\u001b[49m\u001b[38;5;241;43m-\u001b[39;49m\u001b[38;5;241;43m1\u001b[39;49m\u001b[43m,\u001b[49m\u001b[43mmemoize\u001b[49m\u001b[43m)\u001b[49m\u001b[38;5;241m+\u001b[39mmemo(n\u001b[38;5;241m-\u001b[39m\u001b[38;5;241m2\u001b[39m,memoize)\n\u001b[0;32m      6\u001b[0m     \u001b[38;5;28;01mreturn\u001b[39;00m memoize[n]\n",
      "Cell \u001b[1;32mIn[10], line 5\u001b[0m, in \u001b[0;36mmemo\u001b[1;34m(n, memoize)\u001b[0m\n\u001b[0;32m      3\u001b[0m     \u001b[38;5;28;01mreturn\u001b[39;00m memoize[n]\n\u001b[0;32m      4\u001b[0m \u001b[38;5;28;01melse\u001b[39;00m:\n\u001b[1;32m----> 5\u001b[0m     memoize[n]\u001b[38;5;241m=\u001b[39m\u001b[43mmemo\u001b[49m\u001b[43m(\u001b[49m\u001b[43mn\u001b[49m\u001b[38;5;241;43m-\u001b[39;49m\u001b[38;5;241;43m1\u001b[39;49m\u001b[43m,\u001b[49m\u001b[43mmemoize\u001b[49m\u001b[43m)\u001b[49m\u001b[38;5;241m+\u001b[39mmemo(n\u001b[38;5;241m-\u001b[39m\u001b[38;5;241m2\u001b[39m,memoize)\n\u001b[0;32m      6\u001b[0m     \u001b[38;5;28;01mreturn\u001b[39;00m memoize[n]\n",
      "    \u001b[1;31m[... skipping similar frames: memo at line 5 (2974 times)]\u001b[0m\n",
      "Cell \u001b[1;32mIn[10], line 5\u001b[0m, in \u001b[0;36mmemo\u001b[1;34m(n, memoize)\u001b[0m\n\u001b[0;32m      3\u001b[0m     \u001b[38;5;28;01mreturn\u001b[39;00m memoize[n]\n\u001b[0;32m      4\u001b[0m \u001b[38;5;28;01melse\u001b[39;00m:\n\u001b[1;32m----> 5\u001b[0m     memoize[n]\u001b[38;5;241m=\u001b[39m\u001b[43mmemo\u001b[49m\u001b[43m(\u001b[49m\u001b[43mn\u001b[49m\u001b[38;5;241;43m-\u001b[39;49m\u001b[38;5;241;43m1\u001b[39;49m\u001b[43m,\u001b[49m\u001b[43mmemoize\u001b[49m\u001b[43m)\u001b[49m\u001b[38;5;241m+\u001b[39mmemo(n\u001b[38;5;241m-\u001b[39m\u001b[38;5;241m2\u001b[39m,memoize)\n\u001b[0;32m      6\u001b[0m     \u001b[38;5;28;01mreturn\u001b[39;00m memoize[n]\n",
      "\u001b[1;31mRecursionError\u001b[0m: maximum recursion depth exceeded"
     ]
    }
   ],
   "source": [
    "memo(9000)"
   ]
  },
  {
   "cell_type": "markdown",
   "metadata": {},
   "source": [
    "# other solution"
   ]
  },
  {
   "cell_type": "code",
   "execution_count": 21,
   "metadata": {},
   "outputs": [],
   "source": [
    "def xNth(n):\n",
    "    first=[0,1]\n",
    "    counter=3\n",
    "    while counter <= n:\n",
    "        next=first[0]+first[1]\n",
    "        first[0]=first[1]\n",
    "        first[1]=next\n",
    "        counter +=1\n",
    "    return first[1] if n>1 else first[0]"
   ]
  },
  {
   "cell_type": "code",
   "execution_count": 23,
   "metadata": {},
   "outputs": [
    {
     "data": {
      "text/plain": [
       "213938825570735244151654487191085017589968635609982919847383922435196177783956680371261189975459316365196415184923329038537973729475394789843724497904259708647104557801788276146172384086036104045539361944710196710331462295595595592850674204332279738751412197068102012222502917426263288339565050916209231986921802167643221757049010885049835751620405271312913236235619491892830633731639673922340674634338080737376775354178864819342571778796648119871695409225906172846424979929773291052803767370934248816110058044296995901790569566245698960888505213738848197116541487263527132613867817434745002736820719460379119477689687531435766608542333892936803383868618964016289727582255177800552693978379540215280061920535303572040582020653810053115684379369798102750465849273309478669628737452498640041908321072904612534115350480662395666320643394023772768753230153867424910650660591273764888737873970641473783686136583786505918817265543332045352782937797136965110643029694002532481142252570930512602978691507899438027301001276823529521762110856992537831916480348271697347723206267257058875079783637049180881810437215269398951222415720550229998549823722938981263353937741845985212908254183477352912239433008298231889569801743416865654780492247777003716018115994698149788755326726848034103113921044936854105167344790674318442448176240888292643639419373377700506561298510985697700278576572741036261754379436291643464318834154410434474776227551160881013140170065137569845469869117772615212134953047830613909926090735841959017027777297463675070812237096581148959282366970329719108250935615581494918928973108367360077819502100426086399374722786234141699292484410236118590172072970834365307057299163233640818279320626600590754930709962551236843273300962079553063087966153245586111338111650769757946501005814325667623864102156820488993034943202405215671984203528111430620331017521430975321959025306001"
      ]
     },
     "execution_count": 23,
     "metadata": {},
     "output_type": "execute_result"
    }
   ],
   "source": [
    "xNth(9000)"
   ]
  }
 ],
 "metadata": {
  "kernelspec": {
   "display_name": "Python 3",
   "language": "python",
   "name": "python3"
  },
  "language_info": {
   "codemirror_mode": {
    "name": "ipython",
    "version": 3
   },
   "file_extension": ".py",
   "mimetype": "text/x-python",
   "name": "python",
   "nbconvert_exporter": "python",
   "pygments_lexer": "ipython3",
   "version": "3.12.6"
  }
 },
 "nbformat": 4,
 "nbformat_minor": 2
}
