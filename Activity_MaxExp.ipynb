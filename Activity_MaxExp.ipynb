{
 "cells": [
  {
   "cell_type": "markdown",
   "metadata": {},
   "source": [
    "```markdown\n",
    "A function that finds the maximum result of array[a] - array[b] + array[c] - array[d], where a, b, c, and d are distinct indices in ascending order. If there are fewer than four elements, it returns 0.\n",
    "```"
   ]
  },
  {
   "cell_type": "code",
   "execution_count": 3,
   "metadata": {},
   "outputs": [],
   "source": [
    "# O(n) time  | O(n) space\n",
    "def maximizeExpression(array):\n",
    "    if len(array) < 4:\n",
    "        return 0\n",
    "\n",
    "    max_expr = float(\"-inf\")\n",
    "    \n",
    "    # Compute max c-d values for each c indx\n",
    "    max_c_d = [float(\"-inf\")]*len(array)\n",
    "    \n",
    "    min_d = array[-1]\n",
    "    for c in range(len(array)-2,-1,-1):\n",
    "        curr_max = array[c]-min_d\n",
    "        max_c_d[c] = max(curr_max,max_c_d[c+1])\n",
    "        min_d = min(min_d,array[c])\n",
    "        \n",
    "    # Compute expression (max (-b + (c - d)) for each a (to maximize a-b+c-d for a ~ a + (-b + (c - d)))\n",
    "    max_b_c_d = float(\"-inf\")\n",
    "    for a in range(len(array)-4,-1,-1):\n",
    "        max_b_c_d = max(max_b_c_d, -array[a+1] + max_c_d[a+2])\n",
    "        max_expr = max(max_expr, array[a]+max_b_c_d)\n",
    "\n",
    "    return max_expr"
   ]
  },
  {
   "cell_type": "code",
   "execution_count": 2,
   "metadata": {},
   "outputs": [
    {
     "data": {
      "text/plain": [
       "46"
      ]
     },
     "execution_count": 2,
     "metadata": {},
     "output_type": "execute_result"
    }
   ],
   "source": [
    "maximizeExpression( [40, 30, 1, 10, 9, 3])"
   ]
  },
  {
   "cell_type": "code",
   "execution_count": 4,
   "metadata": {},
   "outputs": [
    {
     "data": {
      "text/plain": [
       "24"
      ]
     },
     "execution_count": 4,
     "metadata": {},
     "output_type": "execute_result"
    }
   ],
   "source": [
    "maximizeExpression([6, 2, 3, 4, 1, -1, -2, 3, 1, 7, 8, -8, 2, 5, 1])"
   ]
  },
  {
   "cell_type": "markdown",
   "metadata": {},
   "source": [
    "# \"*OR*\""
   ]
  },
  {
   "cell_type": "code",
   "execution_count": 5,
   "metadata": {},
   "outputs": [],
   "source": [
    "def maxExp(array):\n",
    "    a = b = c = d = float('-inf')\n",
    "    if len(array) < 4: return 0\n",
    "    for x in array:\n",
    "        A = max(a, x)\n",
    "        B = max(b, a - x)\n",
    "        C = max(c, b + x)\n",
    "        D = max(d, c - x)\n",
    "        a, b, c, d = A, B, C, D\n",
    "    return d"
   ]
  },
  {
   "cell_type": "code",
   "execution_count": 6,
   "metadata": {},
   "outputs": [
    {
     "data": {
      "text/plain": [
       "24"
      ]
     },
     "execution_count": 6,
     "metadata": {},
     "output_type": "execute_result"
    }
   ],
   "source": [
    "maxExp([6, 2, 3, 4, 1, -1, -2, 3, 1, 7, 8, -8, 2, 5, 1])"
   ]
  },
  {
   "cell_type": "code",
   "execution_count": null,
   "metadata": {},
   "outputs": [],
   "source": [
    "def maximizeExpression(array):\n",
    "    if len(array) < 4:\n",
    "        return 0\n",
    "\n",
    "    maxOfA = [array[0]]\n",
    "    maxOfAMinusB = [float('-inf')]\n",
    "    maxOfAMinusBPlusC = [float('-inf')]*2\n",
    "    maxOfAMinusBPlusCMinusD = [float('-inf')]*3\n",
    "\n",
    "for idx in range(1, len(array)):\n",
    "    currentMax = max(maxOfA[idx - 1], array[idx])\n",
    "    maxOfA.append(currentMax)\n",
    "\n",
    "for idx in range(1, len(array)):\n",
    "    currentMax = max(maxOfAMinusB[idx -1], maxOfA[idx -1] - array[idx])\n",
    "    maxOfAMinusB.append(currentMax)\n",
    "\n",
    "for idx in range(2, len(array)):"
   ]
  }
 ],
 "metadata": {
  "kernelspec": {
   "display_name": "Python 3",
   "language": "python",
   "name": "python3"
  },
  "language_info": {
   "codemirror_mode": {
    "name": "ipython",
    "version": 3
   },
   "file_extension": ".py",
   "mimetype": "text/x-python",
   "name": "python",
   "nbconvert_exporter": "python",
   "pygments_lexer": "ipython3",
   "version": "3.12.6"
  }
 },
 "nbformat": 4,
 "nbformat_minor": 2
}
