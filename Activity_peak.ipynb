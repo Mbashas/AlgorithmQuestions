{
 "cells": [
  {
   "cell_type": "markdown",
   "metadata": {},
   "source": [
    "# Longest peak"
   ]
  },
  {
   "cell_type": "code",
   "execution_count": 1,
   "metadata": {},
   "outputs": [],
   "source": [
    "1\n",
    "\n",
    "def longPeak(array):\n",
    "    longPeakLength = 0\n",
    "    i = 1\n",
    "    while i < len(array) - 1:\n",
    "        checkPeak = array[i - 1] < array[i] and array[i] > array[i + 1]|T\n",
    "        if not checkPeak:\n",
    "            i += 1\n",
    "            continue\n",
    "\n",
    "        leftIdx = i - 2\n",
    "        while leftIdx >= 0 and array[leftIdx] < array[leftIdx + 1]:\n",
    "            leftIdx -= 1\n",
    "        rightIdx = i + 2\n",
    "        while rightIdx < len(array) and array[rightIdx] < array [rightIdx - 1]:\n",
    "            rightIdx += 1\n",
    "\n",
    "        currentPeakLength = rightIdx - leftIdx - 1\n",
    "        longPeakLength = max(longPeakLength, currentPeakLength)\n",
    "        i = rightIdx\n",
    "    return longPeakLength"
   ]
  }
 ],
 "metadata": {
  "kernelspec": {
   "display_name": "Python 3",
   "language": "python",
   "name": "python3"
  },
  "language_info": {
   "codemirror_mode": {
    "name": "ipython",
    "version": 3
   },
   "file_extension": ".py",
   "mimetype": "text/x-python",
   "name": "python",
   "nbconvert_exporter": "python",
   "pygments_lexer": "ipython3",
   "version": "3.12.6"
  }
 },
 "nbformat": 4,
 "nbformat_minor": 2
}
