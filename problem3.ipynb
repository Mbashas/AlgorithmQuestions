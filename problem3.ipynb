{
 "cells": [
  {
   "cell_type": "markdown",
   "metadata": {},
   "source": [
    "Non-Constructible Change\n",
    "\n",
    "Given an array of positive integers representing the values of coins in your possession, write a function\n",
    "that returns the minimum amount of change (the minimum sum of money) that you cannot create. The\n",
    "given coins can have any positive integer value and aren't necessarily unique (i.e., you can have multiple\n",
    "coins of the same value)."
   ]
  },
  {
   "cell_type": "code",
   "execution_count": 2,
   "metadata": {},
   "outputs": [
    {
     "name": "stdout",
     "output_type": "stream",
     "text": [
      "20\n"
     ]
    }
   ],
   "source": [
    "def non_constructible_change(coins):\n",
    "    coins.sort()\n",
    "    current_change_created = 0\n",
    "\n",
    "    for coin in coins:\n",
    "        if coin > current_change_created + 1:\n",
    "            return current_change_created + 1\n",
    "        current_change_created += coin\n",
    "\n",
    "    return current_change_created + 1\n",
    "\n",
    "# Example usage:\n",
    "coins = [5,7,1,1,2,3,22]\n",
    "print(non_constructible_change(coins)) "
   ]
  },
  {
   "cell_type": "code",
   "execution_count": 4,
   "metadata": {},
   "outputs": [
    {
     "name": "stdout",
     "output_type": "stream",
     "text": [
      "20\n"
     ]
    }
   ],
   "source": [
    "def nonConstructibleChange(coins):\n",
    "    coins.sort()\n",
    "    minimum_change = 0\n",
    "    for coin in coins:\n",
    "        if coin > minimum_change + 1:\n",
    "            break\n",
    "        minimum_change += coin\n",
    "    return minimum_change + 1\n",
    "\n",
    "# Example usage:\n",
    "coins = [5,7,1,1,2,3,22]\n",
    "print(non_constructible_change(coins)) "
   ]
  },
  {
   "cell_type": "code",
   "execution_count": 5,
   "metadata": {},
   "outputs": [
    {
     "name": "stdout",
     "output_type": "stream",
     "text": [
      "20\n"
     ]
    }
   ],
   "source": [
    "def nonConstructibleChange(coins):\n",
    "    coins.sort()\n",
    "    change = 1\n",
    "    for x in coins:\n",
    "        if x-change <=0:\n",
    "            change +=x\n",
    "        else:\n",
    "            break\n",
    "    return change\n",
    "\n",
    "# Example usage:\n",
    "coins = [5,7,1,1,2,3,22]\n",
    "print(non_constructible_change(coins)) "
   ]
  }
 ],
 "metadata": {
  "kernelspec": {
   "display_name": "Python 3",
   "language": "python",
   "name": "python3"
  },
  "language_info": {
   "codemirror_mode": {
    "name": "ipython",
    "version": 3
   },
   "file_extension": ".py",
   "mimetype": "text/x-python",
   "name": "python",
   "nbconvert_exporter": "python",
   "pygments_lexer": "ipython3",
   "version": "3.12.6"
  }
 },
 "nbformat": 4,
 "nbformat_minor": 2
}
